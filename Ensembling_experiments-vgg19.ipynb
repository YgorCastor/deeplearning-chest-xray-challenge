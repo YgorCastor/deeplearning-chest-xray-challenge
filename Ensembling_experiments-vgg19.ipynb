{
 "cells": [
  {
   "cell_type": "code",
   "execution_count": 1,
   "metadata": {},
   "outputs": [
    {
     "name": "stderr",
     "output_type": "stream",
     "text": [
      "/media/WORK/apps/anaconda3/envs/chest-xray-pneumonia/lib/python3.6/site-packages/h5py/__init__.py:36: FutureWarning: Conversion of the second argument of issubdtype from `float` to `np.floating` is deprecated. In future, it will be treated as `np.float64 == np.dtype(float).type`.\n",
      "  from ._conv import register_converters as _register_converters\n",
      "Using TensorFlow backend.\n"
     ]
    }
   ],
   "source": [
    "import os\n",
    "import matplotlib\n",
    "matplotlib.use('Agg')\n",
    "import matplotlib.pyplot as plt\n",
    "from PIL import Image\n",
    "\n",
    "import numpy as np\n",
    "from scipy.stats import mode\n",
    "from sklearn.linear_model import LogisticRegression\n",
    "\n",
    "from pneumonia.model.base import load_keras_model, load_keras_model_from_task_dir\n",
    "from pneumonia.model.vgg19 import VGG19\n",
    "from pneumonia.evaluation.keras import evaluate_keras_model, pred_probas\n",
    "from pneumonia.evaluation.commons import calculate_scores\n",
    "from pneumonia.plot import plot_confusion_matrix, plot_corrcoef_matrix\n",
    "\n",
    "from keras import backend as K\n",
    "\n",
    "%matplotlib inline"
   ]
  },
  {
   "cell_type": "code",
   "execution_count": 2,
   "metadata": {},
   "outputs": [
    {
     "name": "stdout",
     "output_type": "stream",
     "text": [
      "Found 1045 images belonging to 2 classes.\n",
      "9/8 [=================================] - 11s 1s/step\n",
      "Found 624 images belonging to 2 classes.\n",
      "5/4 [==============================] - 7s 1s/step\n"
     ]
    }
   ],
   "source": [
    "vgg19_1 = load_keras_model_from_task_dir(VGG19, \"trained_models/VGG19_0.9423\")\n",
    "pred_probas_val_vgg19_1 = pred_probas(vgg19_1.keras_model, vgg19_1.get_val_generator())\n",
    "pred_probas_test_vgg19_1 = pred_probas(vgg19_1.keras_model, vgg19_1.get_test_generator())\n",
    "K.clear_session()"
   ]
  },
  {
   "cell_type": "code",
   "execution_count": null,
   "metadata": {},
   "outputs": [],
   "source": [
    "vgg19_2 = load_keras_model_from_task_dir(VGG19, \"trained_models/VGG19_0.9485\")\n",
    "pred_probas_val_vgg19_2 = pred_probas(vgg19_2.keras_model, vgg19_2.get_val_generator())\n",
    "pred_probas_test_vgg19_2 = pred_probas(vgg19_2.keras_model, vgg19_2.get_test_generator())\n",
    "K.clear_session()"
   ]
  },
  {
   "cell_type": "code",
   "execution_count": null,
   "metadata": {},
   "outputs": [],
   "source": [
    "vgg19_3 = load_keras_model_from_task_dir(VGG19, \"trained_models/VGG19_0.9513\")\n",
    "pred_probas_val_vgg19_3 = pred_probas(vgg19_3.keras_model, vgg19_3.get_val_generator())\n",
    "pred_probas_test_vgg19_3 = pred_probas(vgg19_3.keras_model, vgg19_3.get_test_generator())\n",
    "K.clear_session()"
   ]
  },
  {
   "cell_type": "code",
   "execution_count": null,
   "metadata": {},
   "outputs": [],
   "source": [
    "plot_corrcoef_matrix(np.corrcoef([pred_probas_val_vgg19_1,\n",
    "                                  pred_probas_val_vgg19_2,\n",
    "                                  pred_probas_val_vgg19_3]),\n",
    "                     model_names=[\"vgg19_1\", \"vgg19_2\", \"vgg19_3\"]).show()"
   ]
  },
  {
   "cell_type": "code",
   "execution_count": null,
   "metadata": {},
   "outputs": [],
   "source": [
    "plot_corrcoef_matrix(np.corrcoef([pred_probas_test_vgg19_1,\n",
    "                                  pred_probas_test_vgg19_2,\n",
    "                                  pred_probas_test_vgg19_3]),\n",
    "                     model_names=[\"vgg19_1\", \"vgg19_2\", \"vgg19_3\"]).show()"
   ]
  },
  {
   "cell_type": "code",
   "execution_count": null,
   "metadata": {},
   "outputs": [],
   "source": [
    "def print_scores(trues, preds):\n",
    "    acc, precision, recall, f1_score, confusion_matrix = calculate_scores(trues, preds)\n",
    "    print(f\"acc: {acc}\")\n",
    "    print(f\"precision: {precision}\")\n",
    "    print(f\"recall: {recall}\")\n",
    "    print(f\"f1 score: {f1_score}\")\n",
    "    print(f\"confusion matrix: {confusion_matrix}\")"
   ]
  },
  {
   "cell_type": "code",
   "execution_count": null,
   "metadata": {},
   "outputs": [],
   "source": [
    "val_trues = vgg19_1.get_val_generator().classes\n",
    "test_trues = vgg19_1.get_test_generator().classes"
   ]
  },
  {
   "cell_type": "code",
   "execution_count": null,
   "metadata": {},
   "outputs": [],
   "source": [
    "pred_val_vgg19_1 = (pred_probas_val_vgg19_1 > 0.99).astype(int)\n",
    "pred_val_vgg19_2 = (pred_probas_val_vgg19_2 > 0.99).astype(int)\n",
    "pred_val_vgg19_3 = (pred_probas_val_vgg19_3 > 0.99).astype(int)"
   ]
  },
  {
   "cell_type": "code",
   "execution_count": null,
   "metadata": {},
   "outputs": [],
   "source": [
    "pred_test_vgg19_1 = (pred_probas_test_vgg19_1 > 0.98).astype(int)\n",
    "pred_test_vgg19_2 = (pred_probas_test_vgg19_2 > 0.99).astype(int)\n",
    "pred_test_vgg19_3 = (pred_probas_test_vgg19_3 > 0.99).astype(int)"
   ]
  },
  {
   "cell_type": "code",
   "execution_count": null,
   "metadata": {},
   "outputs": [],
   "source": [
    "print_scores(pred_test_vgg19_1, test_trues)"
   ]
  },
  {
   "cell_type": "code",
   "execution_count": null,
   "metadata": {},
   "outputs": [],
   "source": [
    "print_scores(pred_test_vgg19_2, test_trues)"
   ]
  },
  {
   "cell_type": "code",
   "execution_count": null,
   "metadata": {},
   "outputs": [],
   "source": [
    "print_scores(pred_test_vgg19_3, test_trues)"
   ]
  },
  {
   "cell_type": "markdown",
   "metadata": {},
   "source": [
    "## Primeira tentativa de ensemble: votação"
   ]
  },
  {
   "cell_type": "code",
   "execution_count": null,
   "metadata": {},
   "outputs": [],
   "source": [
    "ensemble_1_val = np.column_stack((pred_val_vgg19_1, pred_val_vgg19_2,\n",
    "                              pred_val_vgg19_3))\n",
    "ensemble_1_val_preds = mode(ensemble_1_val, axis=1).mode.flatten()\n",
    "print_scores(ensemble_1_val_preds, val_trues)"
   ]
  },
  {
   "cell_type": "code",
   "execution_count": null,
   "metadata": {},
   "outputs": [],
   "source": [
    "ensemble_1_test = np.column_stack((pred_test_vgg19_1, pred_test_vgg19_2,\n",
    "                              pred_test_vgg19_3))\n",
    "ensemble_1_test_preds = mode(ensemble_1_test, axis=1).mode.flatten()\n",
    "print_scores(ensemble_1_test_preds, test_trues)"
   ]
  },
  {
   "cell_type": "markdown",
   "metadata": {},
   "source": [
    "## Segunda tentativa de ensemble: média de probabilidades"
   ]
  },
  {
   "cell_type": "code",
   "execution_count": null,
   "metadata": {},
   "outputs": [],
   "source": [
    "ensemble_2_val = np.column_stack((pred_probas_val_vgg19_1, pred_probas_val_vgg19_2,\n",
    "                              pred_probas_val_vgg19_3))\n",
    "ensemble_2_val_preds = (np.average(ensemble_2_val, axis=1) > 0.74).astype(int)\n",
    "print_scores(ensemble_2_val_preds, val_trues)"
   ]
  },
  {
   "cell_type": "code",
   "execution_count": null,
   "metadata": {},
   "outputs": [],
   "source": [
    "for val in np.arange(0.5, 0.99, 0.01):\n",
    "    ensemble_2_test = np.column_stack((pred_probas_test_vgg19_1, pred_probas_test_vgg19_2, pred_probas_test_vgg19_2))\n",
    "    ensemble_2_test_preds = (np.average(ensemble_2_test, axis=1) > val).astype(int)\n",
    "    print(val)\n",
    "    print_scores(ensemble_2_test_preds, test_trues)"
   ]
  },
  {
   "cell_type": "markdown",
   "metadata": {},
   "source": [
    "## Terceira tentativa de ensemble: regressão logística"
   ]
  },
  {
   "cell_type": "code",
   "execution_count": null,
   "metadata": {},
   "outputs": [],
   "source": [
    "ensemble_3_val = np.column_stack((pred_probas_val_vgg19_1, pred_probas_val_vgg19_2,\n",
    "                              pred_probas_val_vgg19_3))\n",
    "ensemble_3_test = np.column_stack((pred_probas_val_vgg19_1, pred_probas_val_vgg19_2,\n",
    "                              pred_probas_val_vgg19_3))"
   ]
  },
  {
   "cell_type": "code",
   "execution_count": null,
   "metadata": {},
   "outputs": [],
   "source": [
    "ensemble_3_clf = LogisticRegression(class_weight=\"balanced\", C=0.1, random_state=42)\n",
    "ensemble_3_clf.fit(ensemble_3_val, val_trues)"
   ]
  },
  {
   "cell_type": "code",
   "execution_count": null,
   "metadata": {},
   "outputs": [],
   "source": [
    "ensemble_3_clf.intercept_"
   ]
  },
  {
   "cell_type": "code",
   "execution_count": null,
   "metadata": {},
   "outputs": [],
   "source": [
    "ensemble_3_clf.coef_"
   ]
  },
  {
   "cell_type": "code",
   "execution_count": null,
   "metadata": {},
   "outputs": [],
   "source": [
    "ensemble_3_val_pred_probas = ensemble_3_clf.predict_proba(ensemble_3_val)[:,1]\n",
    "ensemble_3_val_preds = (ensemble_3_val_pred_probas > 0.95).astype(int)\n",
    "print_scores(ensemble_3_val_preds, val_trues)"
   ]
  },
  {
   "cell_type": "code",
   "execution_count": null,
   "metadata": {},
   "outputs": [],
   "source": [
    "for val in np.arange(0.5, 0.95, 0.01):\n",
    "    ensemble_3_test_pred_probas = ensemble_3_clf.predict_proba(ensemble_3_test)[:,1]\n",
    "    ensemble_3_test_preds = (ensemble_3_test_pred_probas > val).astype(int)\n",
    "    print(val)\n",
    "    print_scores(ensemble_3_test_preds, test_trues)"
   ]
  },
  {
   "cell_type": "markdown",
   "metadata": {},
   "source": [
    "## Terceira tentativa de ensemble: regressão logística com votos"
   ]
  },
  {
   "cell_type": "code",
   "execution_count": null,
   "metadata": {},
   "outputs": [],
   "source": [
    "ensemble_4_val_pred = np.column_stack((pred_val_vgg19_1, pred_val_vgg19_2, pred_val_vgg19_3))\n",
    "ensemble_4_test_pred = np.column_stack((pred_val_vgg19_1, pred_val_vgg19_2, pred_val_vgg19_3))"
   ]
  },
  {
   "cell_type": "code",
   "execution_count": null,
   "metadata": {},
   "outputs": [],
   "source": [
    "ensemble_4_clf = LogisticRegression(class_weight=\"balanced\", C=0.1, random_state=42)\n",
    "ensemble_4_clf.fit(ensemble_4_val_pred, val_trues)"
   ]
  },
  {
   "cell_type": "code",
   "execution_count": null,
   "metadata": {},
   "outputs": [],
   "source": [
    "ensemble_4_clf.intercept_"
   ]
  },
  {
   "cell_type": "code",
   "execution_count": null,
   "metadata": {},
   "outputs": [],
   "source": [
    "ensemble_4_clf.coef_"
   ]
  },
  {
   "cell_type": "code",
   "execution_count": null,
   "metadata": {},
   "outputs": [],
   "source": [
    "ensemble_4_val_pred_probas = ensemble_4_clf.predict_proba(ensemble_4_val_pred)[:,1]\n",
    "ensemble_4_val_preds = (ensemble_3_val_pred_probas > 0.99).astype(int)\n",
    "print_scores(ensemble_3_val_preds, val_trues)"
   ]
  },
  {
   "cell_type": "code",
   "execution_count": null,
   "metadata": {},
   "outputs": [],
   "source": [
    "for val in np.arange(0.5, 0.99, 0.01):\n",
    "    ensemble_4_test_pred_probas = ensemble_4_clf.predict_proba(ensemble_4_test_pred)[:,1]\n",
    "    ensemble_4_test_preds = (ensemble_4_test_pred_probas > val).astype(int)\n",
    "    print(val)\n",
    "    print_scores(ensemble_4_test_preds, test_trues)"
   ]
  },
  {
   "cell_type": "code",
   "execution_count": null,
   "metadata": {},
   "outputs": [],
   "source": []
  }
 ],
 "metadata": {
  "kernelspec": {
   "display_name": "Python 3",
   "language": "python",
   "name": "python3"
  },
  "language_info": {
   "codemirror_mode": {
    "name": "ipython",
    "version": 3
   },
   "file_extension": ".py",
   "mimetype": "text/x-python",
   "name": "python",
   "nbconvert_exporter": "python",
   "pygments_lexer": "ipython3",
   "version": "3.6.5"
  }
 },
 "nbformat": 4,
 "nbformat_minor": 2
}
