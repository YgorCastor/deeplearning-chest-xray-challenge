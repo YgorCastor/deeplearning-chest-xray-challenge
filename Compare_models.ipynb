{
 "cells": [
  {
   "cell_type": "code",
   "execution_count": null,
   "metadata": {},
   "outputs": [],
   "source": [
    "import matplotlib\n",
    "matplotlib.use('Agg')\n",
    "import seaborn as sns\n",
    "sns.set()\n",
    "import pandas as pd\n",
    "from pneumonia.evaluation.commons import generate_summary_of_experiments_from_dir\n",
    "import os\n",
    "\n",
    "%matplotlib inline"
   ]
  },
  {
   "cell_type": "code",
   "execution_count": 2,
   "metadata": {},
   "outputs": [],
   "source": [
    "def plot_bar(df: pd.DataFrame, metric: str, ylim=(0.9, 1.0)):\n",
    "    df.plot(y=[\"train_%s\" % metric, \"val_%s\" % metric], kind=\"bar\", ylim=ylim, figsize=(18, 8), grid=True)"
   ]
  },
  {
   "cell_type": "code",
   "execution_count": 3,
   "metadata": {},
   "outputs": [],
   "source": [
    "summary_df = generate_summary_of_experiments_from_dir(\"output/models/VGG19/experiments\")\n",
    "summary_df.set_index(summary_df.name, inplace=True)"
   ]
  },
  {
   "cell_type": "code",
   "execution_count": 4,
   "metadata": {},
   "outputs": [
    {
     "data": {
      "text/html": [
       "<div>\n",
       "<style scoped>\n",
       "    .dataframe tbody tr th:only-of-type {\n",
       "        vertical-align: middle;\n",
       "    }\n",
       "\n",
       "    .dataframe tbody tr th {\n",
       "        vertical-align: top;\n",
       "    }\n",
       "\n",
       "    .dataframe thead th {\n",
       "        text-align: right;\n",
       "    }\n",
       "</style>\n",
       "<table border=\"1\" class=\"dataframe\">\n",
       "  <thead>\n",
       "    <tr style=\"text-align: right;\">\n",
       "      <th></th>\n",
       "      <th>all_dropout</th>\n",
       "      <th>batch_normalization_after_vgg</th>\n",
       "      <th>batch_normalization_between_dense</th>\n",
       "      <th>batch_size</th>\n",
       "      <th>data_augmented</th>\n",
       "      <th>dense_neurons</th>\n",
       "      <th>dropout</th>\n",
       "      <th>early_stopping_patience</th>\n",
       "      <th>epochs</th>\n",
       "      <th>frozen_layers</th>\n",
       "      <th>...</th>\n",
       "      <th>total_dense_layers</th>\n",
       "      <th>train_acc</th>\n",
       "      <th>train_f1_score</th>\n",
       "      <th>train_precision</th>\n",
       "      <th>train_recall</th>\n",
       "      <th>val_acc</th>\n",
       "      <th>val_batch_size</th>\n",
       "      <th>val_f1_score</th>\n",
       "      <th>val_precision</th>\n",
       "      <th>val_recall</th>\n",
       "    </tr>\n",
       "    <tr>\n",
       "      <th>name</th>\n",
       "      <th></th>\n",
       "      <th></th>\n",
       "      <th></th>\n",
       "      <th></th>\n",
       "      <th></th>\n",
       "      <th></th>\n",
       "      <th></th>\n",
       "      <th></th>\n",
       "      <th></th>\n",
       "      <th></th>\n",
       "      <th></th>\n",
       "      <th></th>\n",
       "      <th></th>\n",
       "      <th></th>\n",
       "      <th></th>\n",
       "      <th></th>\n",
       "      <th></th>\n",
       "      <th></th>\n",
       "      <th></th>\n",
       "      <th></th>\n",
       "      <th></th>\n",
       "    </tr>\n",
       "  </thead>\n",
       "  <tbody>\n",
       "    <tr>\n",
       "      <th>VGG19_True_False_False_cbe595c98d</th>\n",
       "      <td>True</td>\n",
       "      <td>False</td>\n",
       "      <td>False</td>\n",
       "      <td>64</td>\n",
       "      <td>True</td>\n",
       "      <td>2048</td>\n",
       "      <td>0.1</td>\n",
       "      <td>20</td>\n",
       "      <td>100</td>\n",
       "      <td>21</td>\n",
       "      <td>...</td>\n",
       "      <td>3</td>\n",
       "      <td>0.982137</td>\n",
       "      <td>0.982283</td>\n",
       "      <td>0.974351</td>\n",
       "      <td>0.990344</td>\n",
       "      <td>0.970335</td>\n",
       "      <td>128</td>\n",
       "      <td>0.979699</td>\n",
       "      <td>0.996005</td>\n",
       "      <td>0.963918</td>\n",
       "    </tr>\n",
       "    <tr>\n",
       "      <th>VGG19_False_False_False_7300f04332</th>\n",
       "      <td>False</td>\n",
       "      <td>False</td>\n",
       "      <td>False</td>\n",
       "      <td>64</td>\n",
       "      <td>True</td>\n",
       "      <td>2048</td>\n",
       "      <td>NaN</td>\n",
       "      <td>20</td>\n",
       "      <td>100</td>\n",
       "      <td>21</td>\n",
       "      <td>...</td>\n",
       "      <td>3</td>\n",
       "      <td>0.988252</td>\n",
       "      <td>0.988348</td>\n",
       "      <td>0.980367</td>\n",
       "      <td>0.996460</td>\n",
       "      <td>0.974163</td>\n",
       "      <td>128</td>\n",
       "      <td>0.982387</td>\n",
       "      <td>0.994716</td>\n",
       "      <td>0.970361</td>\n",
       "    </tr>\n",
       "    <tr>\n",
       "      <th>VGG19_False_False_False_edbfe1c363</th>\n",
       "      <td>False</td>\n",
       "      <td>False</td>\n",
       "      <td>False</td>\n",
       "      <td>64</td>\n",
       "      <td>True</td>\n",
       "      <td>512</td>\n",
       "      <td>NaN</td>\n",
       "      <td>20</td>\n",
       "      <td>100</td>\n",
       "      <td>21</td>\n",
       "      <td>...</td>\n",
       "      <td>3</td>\n",
       "      <td>0.970872</td>\n",
       "      <td>0.971688</td>\n",
       "      <td>0.945222</td>\n",
       "      <td>0.999678</td>\n",
       "      <td>0.979904</td>\n",
       "      <td>128</td>\n",
       "      <td>0.986425</td>\n",
       "      <td>0.989624</td>\n",
       "      <td>0.983247</td>\n",
       "    </tr>\n",
       "    <tr>\n",
       "      <th>VGG19_False_False_False_9e4204b154</th>\n",
       "      <td>False</td>\n",
       "      <td>False</td>\n",
       "      <td>False</td>\n",
       "      <td>64</td>\n",
       "      <td>True</td>\n",
       "      <td>1024</td>\n",
       "      <td>0.1</td>\n",
       "      <td>20</td>\n",
       "      <td>100</td>\n",
       "      <td>21</td>\n",
       "      <td>...</td>\n",
       "      <td>3</td>\n",
       "      <td>0.958964</td>\n",
       "      <td>0.960422</td>\n",
       "      <td>0.927458</td>\n",
       "      <td>0.995816</td>\n",
       "      <td>0.975120</td>\n",
       "      <td>128</td>\n",
       "      <td>0.983095</td>\n",
       "      <td>0.992126</td>\n",
       "      <td>0.974227</td>\n",
       "    </tr>\n",
       "    <tr>\n",
       "      <th>VGG19_True_False_False_2c4556ee74</th>\n",
       "      <td>True</td>\n",
       "      <td>False</td>\n",
       "      <td>False</td>\n",
       "      <td>64</td>\n",
       "      <td>True</td>\n",
       "      <td>2048</td>\n",
       "      <td>NaN</td>\n",
       "      <td>20</td>\n",
       "      <td>100</td>\n",
       "      <td>21</td>\n",
       "      <td>...</td>\n",
       "      <td>3</td>\n",
       "      <td>0.974734</td>\n",
       "      <td>0.975342</td>\n",
       "      <td>0.952454</td>\n",
       "      <td>0.999356</td>\n",
       "      <td>0.977990</td>\n",
       "      <td>128</td>\n",
       "      <td>0.985055</td>\n",
       "      <td>0.993447</td>\n",
       "      <td>0.976804</td>\n",
       "    </tr>\n",
       "    <tr>\n",
       "      <th>VGG19_True_False_False_c3449e7c22</th>\n",
       "      <td>True</td>\n",
       "      <td>False</td>\n",
       "      <td>False</td>\n",
       "      <td>64</td>\n",
       "      <td>True</td>\n",
       "      <td>2048</td>\n",
       "      <td>0.2</td>\n",
       "      <td>20</td>\n",
       "      <td>100</td>\n",
       "      <td>21</td>\n",
       "      <td>...</td>\n",
       "      <td>3</td>\n",
       "      <td>0.991632</td>\n",
       "      <td>0.991651</td>\n",
       "      <td>0.989426</td>\n",
       "      <td>0.993885</td>\n",
       "      <td>0.973206</td>\n",
       "      <td>128</td>\n",
       "      <td>0.981699</td>\n",
       "      <td>0.996021</td>\n",
       "      <td>0.967784</td>\n",
       "    </tr>\n",
       "  </tbody>\n",
       "</table>\n",
       "<p>6 rows × 29 columns</p>\n",
       "</div>"
      ],
      "text/plain": [
       "                                    all_dropout  \\\n",
       "name                                              \n",
       "VGG19_True_False_False_cbe595c98d          True   \n",
       "VGG19_False_False_False_7300f04332        False   \n",
       "VGG19_False_False_False_edbfe1c363        False   \n",
       "VGG19_False_False_False_9e4204b154        False   \n",
       "VGG19_True_False_False_2c4556ee74          True   \n",
       "VGG19_True_False_False_c3449e7c22          True   \n",
       "\n",
       "                                    batch_normalization_after_vgg  \\\n",
       "name                                                                \n",
       "VGG19_True_False_False_cbe595c98d                           False   \n",
       "VGG19_False_False_False_7300f04332                          False   \n",
       "VGG19_False_False_False_edbfe1c363                          False   \n",
       "VGG19_False_False_False_9e4204b154                          False   \n",
       "VGG19_True_False_False_2c4556ee74                           False   \n",
       "VGG19_True_False_False_c3449e7c22                           False   \n",
       "\n",
       "                                    batch_normalization_between_dense  \\\n",
       "name                                                                    \n",
       "VGG19_True_False_False_cbe595c98d                               False   \n",
       "VGG19_False_False_False_7300f04332                              False   \n",
       "VGG19_False_False_False_edbfe1c363                              False   \n",
       "VGG19_False_False_False_9e4204b154                              False   \n",
       "VGG19_True_False_False_2c4556ee74                               False   \n",
       "VGG19_True_False_False_c3449e7c22                               False   \n",
       "\n",
       "                                    batch_size  data_augmented  dense_neurons  \\\n",
       "name                                                                            \n",
       "VGG19_True_False_False_cbe595c98d           64            True           2048   \n",
       "VGG19_False_False_False_7300f04332          64            True           2048   \n",
       "VGG19_False_False_False_edbfe1c363          64            True            512   \n",
       "VGG19_False_False_False_9e4204b154          64            True           1024   \n",
       "VGG19_True_False_False_2c4556ee74           64            True           2048   \n",
       "VGG19_True_False_False_c3449e7c22           64            True           2048   \n",
       "\n",
       "                                    dropout  early_stopping_patience  epochs  \\\n",
       "name                                                                           \n",
       "VGG19_True_False_False_cbe595c98d       0.1                       20     100   \n",
       "VGG19_False_False_False_7300f04332      NaN                       20     100   \n",
       "VGG19_False_False_False_edbfe1c363      NaN                       20     100   \n",
       "VGG19_False_False_False_9e4204b154      0.1                       20     100   \n",
       "VGG19_True_False_False_2c4556ee74       NaN                       20     100   \n",
       "VGG19_True_False_False_c3449e7c22       0.2                       20     100   \n",
       "\n",
       "                                    frozen_layers     ...      \\\n",
       "name                                                  ...       \n",
       "VGG19_True_False_False_cbe595c98d              21     ...       \n",
       "VGG19_False_False_False_7300f04332             21     ...       \n",
       "VGG19_False_False_False_edbfe1c363             21     ...       \n",
       "VGG19_False_False_False_9e4204b154             21     ...       \n",
       "VGG19_True_False_False_2c4556ee74              21     ...       \n",
       "VGG19_True_False_False_c3449e7c22              21     ...       \n",
       "\n",
       "                                    total_dense_layers  train_acc  \\\n",
       "name                                                                \n",
       "VGG19_True_False_False_cbe595c98d                    3   0.982137   \n",
       "VGG19_False_False_False_7300f04332                   3   0.988252   \n",
       "VGG19_False_False_False_edbfe1c363                   3   0.970872   \n",
       "VGG19_False_False_False_9e4204b154                   3   0.958964   \n",
       "VGG19_True_False_False_2c4556ee74                    3   0.974734   \n",
       "VGG19_True_False_False_c3449e7c22                    3   0.991632   \n",
       "\n",
       "                                   train_f1_score train_precision  \\\n",
       "name                                                                \n",
       "VGG19_True_False_False_cbe595c98d        0.982283        0.974351   \n",
       "VGG19_False_False_False_7300f04332       0.988348        0.980367   \n",
       "VGG19_False_False_False_edbfe1c363       0.971688        0.945222   \n",
       "VGG19_False_False_False_9e4204b154       0.960422        0.927458   \n",
       "VGG19_True_False_False_2c4556ee74        0.975342        0.952454   \n",
       "VGG19_True_False_False_c3449e7c22        0.991651        0.989426   \n",
       "\n",
       "                                   train_recall   val_acc val_batch_size  \\\n",
       "name                                                                       \n",
       "VGG19_True_False_False_cbe595c98d      0.990344  0.970335            128   \n",
       "VGG19_False_False_False_7300f04332     0.996460  0.974163            128   \n",
       "VGG19_False_False_False_edbfe1c363     0.999678  0.979904            128   \n",
       "VGG19_False_False_False_9e4204b154     0.995816  0.975120            128   \n",
       "VGG19_True_False_False_2c4556ee74      0.999356  0.977990            128   \n",
       "VGG19_True_False_False_c3449e7c22      0.993885  0.973206            128   \n",
       "\n",
       "                                   val_f1_score val_precision  val_recall  \n",
       "name                                                                       \n",
       "VGG19_True_False_False_cbe595c98d      0.979699      0.996005    0.963918  \n",
       "VGG19_False_False_False_7300f04332     0.982387      0.994716    0.970361  \n",
       "VGG19_False_False_False_edbfe1c363     0.986425      0.989624    0.983247  \n",
       "VGG19_False_False_False_9e4204b154     0.983095      0.992126    0.974227  \n",
       "VGG19_True_False_False_2c4556ee74      0.985055      0.993447    0.976804  \n",
       "VGG19_True_False_False_c3449e7c22      0.981699      0.996021    0.967784  \n",
       "\n",
       "[6 rows x 29 columns]"
      ]
     },
     "execution_count": 4,
     "metadata": {},
     "output_type": "execute_result"
    }
   ],
   "source": [
    "summary_df.head(6)"
   ]
  },
  {
   "cell_type": "code",
   "execution_count": 5,
   "metadata": {},
   "outputs": [
    {
     "data": {
      "text/plain": [
       "22"
      ]
     },
     "execution_count": 5,
     "metadata": {},
     "output_type": "execute_result"
    }
   ],
   "source": [
    "len(summary_df)"
   ]
  },
  {
   "cell_type": "code",
   "execution_count": 6,
   "metadata": {},
   "outputs": [
    {
     "data": {
      "image/png": "[encoded data removed]",
      "text/plain": [
       "<Figure size 1296x576 with 1 Axes>"
      ]
     },
     "metadata": {},
     "output_type": "display_data"
    }
   ],
   "source": [
    "plot_bar(summary_df, \"acc\")"
   ]
  },
  {
   "cell_type": "code",
   "execution_count": 7,
   "metadata": {},
   "outputs": [
    {
     "data": {
      "image/png": "[encoded data removed]",
      "text/plain": [
       "<Figure size 1296x576 with 1 Axes>"
      ]
     },
     "metadata": {},
     "output_type": "display_data"
    }
   ],
   "source": [
    "plot_bar(summary_df, \"f1_score\")"
   ]
  },
  {
   "cell_type": "code",
   "execution_count": 8,
   "metadata": {},
   "outputs": [
    {
     "data": {
      "text/html": [
       "<div>\n",
       "<style scoped>\n",
       "    .dataframe tbody tr th:only-of-type {\n",
       "        vertical-align: middle;\n",
       "    }\n",
       "\n",
       "    .dataframe tbody tr th {\n",
       "        vertical-align: top;\n",
       "    }\n",
       "\n",
       "    .dataframe thead th {\n",
       "        text-align: right;\n",
       "    }\n",
       "</style>\n",
       "<table border=\"1\" class=\"dataframe\">\n",
       "  <thead>\n",
       "    <tr style=\"text-align: right;\">\n",
       "      <th></th>\n",
       "      <th>train_acc</th>\n",
       "      <th>val_acc</th>\n",
       "      <th>train_f1_score</th>\n",
       "      <th>val_f1_score</th>\n",
       "    </tr>\n",
       "    <tr>\n",
       "      <th>sampling_strategy</th>\n",
       "      <th></th>\n",
       "      <th></th>\n",
       "      <th></th>\n",
       "      <th></th>\n",
       "    </tr>\n",
       "  </thead>\n",
       "  <tbody>\n",
       "    <tr>\n",
       "      <th>oversample</th>\n",
       "      <td>0.977536</td>\n",
       "      <td>0.97699</td>\n",
       "      <td>0.978052</td>\n",
       "      <td>0.984356</td>\n",
       "    </tr>\n",
       "  </tbody>\n",
       "</table>\n",
       "</div>"
      ],
      "text/plain": [
       "                   train_acc  val_acc  train_f1_score  val_f1_score\n",
       "sampling_strategy                                                  \n",
       "oversample          0.977536  0.97699        0.978052      0.984356"
      ]
     },
     "execution_count": 8,
     "metadata": {},
     "output_type": "execute_result"
    }
   ],
   "source": [
    "summary_df.groupby(\"sampling_strategy\")[\"train_acc\", \"val_acc\", \"train_f1_score\", \"val_f1_score\"].mean()"
   ]
  },
  {
   "cell_type": "code",
   "execution_count": 9,
   "metadata": {},
   "outputs": [
    {
     "data": {
      "text/html": [
       "<div>\n",
       "<style scoped>\n",
       "    .dataframe tbody tr th:only-of-type {\n",
       "        vertical-align: middle;\n",
       "    }\n",
       "\n",
       "    .dataframe tbody tr th {\n",
       "        vertical-align: top;\n",
       "    }\n",
       "\n",
       "    .dataframe thead th {\n",
       "        text-align: right;\n",
       "    }\n",
       "</style>\n",
       "<table border=\"1\" class=\"dataframe\">\n",
       "  <thead>\n",
       "    <tr style=\"text-align: right;\">\n",
       "      <th></th>\n",
       "      <th>train_acc</th>\n",
       "      <th>val_acc</th>\n",
       "      <th>train_f1_score</th>\n",
       "      <th>val_f1_score</th>\n",
       "    </tr>\n",
       "    <tr>\n",
       "      <th>interpolation</th>\n",
       "      <th></th>\n",
       "      <th></th>\n",
       "      <th></th>\n",
       "      <th></th>\n",
       "    </tr>\n",
       "  </thead>\n",
       "  <tbody>\n",
       "    <tr>\n",
       "      <th>lanczos</th>\n",
       "      <td>0.977536</td>\n",
       "      <td>0.97699</td>\n",
       "      <td>0.978052</td>\n",
       "      <td>0.984356</td>\n",
       "    </tr>\n",
       "  </tbody>\n",
       "</table>\n",
       "</div>"
      ],
      "text/plain": [
       "               train_acc  val_acc  train_f1_score  val_f1_score\n",
       "interpolation                                                  \n",
       "lanczos         0.977536  0.97699        0.978052      0.984356"
      ]
     },
     "execution_count": 9,
     "metadata": {},
     "output_type": "execute_result"
    }
   ],
   "source": [
    "summary_df.groupby(\"interpolation\")[\"train_acc\", \"val_acc\", \"train_f1_score\", \"val_f1_score\"].mean()"
   ]
  },
  {
   "cell_type": "code",
   "execution_count": 11,
   "metadata": {},
   "outputs": [],
   "source": [
    "#summary_df.groupby(\"input_shape\")[\"train_acc\", \"val_acc\", \"train_f1_score\", \"val_f1_score\"].mean()"
   ]
  },
  {
   "cell_type": "code",
   "execution_count": 12,
   "metadata": {},
   "outputs": [
    {
     "data": {
      "text/html": [
       "<div>\n",
       "<style scoped>\n",
       "    .dataframe tbody tr th:only-of-type {\n",
       "        vertical-align: middle;\n",
       "    }\n",
       "\n",
       "    .dataframe tbody tr th {\n",
       "        vertical-align: top;\n",
       "    }\n",
       "\n",
       "    .dataframe thead th {\n",
       "        text-align: right;\n",
       "    }\n",
       "</style>\n",
       "<table border=\"1\" class=\"dataframe\">\n",
       "  <thead>\n",
       "    <tr style=\"text-align: right;\">\n",
       "      <th></th>\n",
       "      <th>train_acc</th>\n",
       "      <th>val_acc</th>\n",
       "      <th>train_f1_score</th>\n",
       "      <th>val_f1_score</th>\n",
       "    </tr>\n",
       "    <tr>\n",
       "      <th>learning_rate</th>\n",
       "      <th></th>\n",
       "      <th></th>\n",
       "      <th></th>\n",
       "      <th></th>\n",
       "    </tr>\n",
       "  </thead>\n",
       "  <tbody>\n",
       "    <tr>\n",
       "      <th>0.00005</th>\n",
       "      <td>0.977536</td>\n",
       "      <td>0.97699</td>\n",
       "      <td>0.978052</td>\n",
       "      <td>0.984356</td>\n",
       "    </tr>\n",
       "  </tbody>\n",
       "</table>\n",
       "</div>"
      ],
      "text/plain": [
       "               train_acc  val_acc  train_f1_score  val_f1_score\n",
       "learning_rate                                                  \n",
       "0.00005         0.977536  0.97699        0.978052      0.984356"
      ]
     },
     "execution_count": 12,
     "metadata": {},
     "output_type": "execute_result"
    }
   ],
   "source": [
    "summary_df.groupby(\"learning_rate\")[\"train_acc\", \"val_acc\", \"train_f1_score\", \"val_f1_score\"].mean()"
   ]
  },
  {
   "cell_type": "code",
   "execution_count": 13,
   "metadata": {},
   "outputs": [
    {
     "data": {
      "text/html": [
       "<div>\n",
       "<style scoped>\n",
       "    .dataframe tbody tr th:only-of-type {\n",
       "        vertical-align: middle;\n",
       "    }\n",
       "\n",
       "    .dataframe tbody tr th {\n",
       "        vertical-align: top;\n",
       "    }\n",
       "\n",
       "    .dataframe thead th {\n",
       "        text-align: right;\n",
       "    }\n",
       "</style>\n",
       "<table border=\"1\" class=\"dataframe\">\n",
       "  <thead>\n",
       "    <tr style=\"text-align: right;\">\n",
       "      <th></th>\n",
       "      <th>train_acc</th>\n",
       "      <th>val_acc</th>\n",
       "      <th>train_f1_score</th>\n",
       "      <th>val_f1_score</th>\n",
       "    </tr>\n",
       "    <tr>\n",
       "      <th>dense_neurons</th>\n",
       "      <th></th>\n",
       "      <th></th>\n",
       "      <th></th>\n",
       "      <th></th>\n",
       "    </tr>\n",
       "  </thead>\n",
       "  <tbody>\n",
       "    <tr>\n",
       "      <th>512</th>\n",
       "      <td>0.975660</td>\n",
       "      <td>0.977033</td>\n",
       "      <td>0.976267</td>\n",
       "      <td>0.984393</td>\n",
       "    </tr>\n",
       "    <tr>\n",
       "      <th>1024</th>\n",
       "      <td>0.975720</td>\n",
       "      <td>0.977632</td>\n",
       "      <td>0.976316</td>\n",
       "      <td>0.984805</td>\n",
       "    </tr>\n",
       "    <tr>\n",
       "      <th>2048</th>\n",
       "      <td>0.982459</td>\n",
       "      <td>0.976077</td>\n",
       "      <td>0.982747</td>\n",
       "      <td>0.983707</td>\n",
       "    </tr>\n",
       "  </tbody>\n",
       "</table>\n",
       "</div>"
      ],
      "text/plain": [
       "               train_acc   val_acc  train_f1_score  val_f1_score\n",
       "dense_neurons                                                   \n",
       "512             0.975660  0.977033        0.976267      0.984393\n",
       "1024            0.975720  0.977632        0.976316      0.984805\n",
       "2048            0.982459  0.976077        0.982747      0.983707"
      ]
     },
     "execution_count": 13,
     "metadata": {},
     "output_type": "execute_result"
    }
   ],
   "source": [
    "summary_df.groupby(\"dense_neurons\")[\"train_acc\", \"val_acc\", \"train_f1_score\", \"val_f1_score\"].mean()"
   ]
  },
  {
   "cell_type": "code",
   "execution_count": 14,
   "metadata": {},
   "outputs": [
    {
     "data": {
      "text/html": [
       "<div>\n",
       "<style scoped>\n",
       "    .dataframe tbody tr th:only-of-type {\n",
       "        vertical-align: middle;\n",
       "    }\n",
       "\n",
       "    .dataframe tbody tr th {\n",
       "        vertical-align: top;\n",
       "    }\n",
       "\n",
       "    .dataframe thead th {\n",
       "        text-align: right;\n",
       "    }\n",
       "</style>\n",
       "<table border=\"1\" class=\"dataframe\">\n",
       "  <thead>\n",
       "    <tr style=\"text-align: right;\">\n",
       "      <th></th>\n",
       "      <th>train_acc</th>\n",
       "      <th>val_acc</th>\n",
       "      <th>train_f1_score</th>\n",
       "      <th>val_f1_score</th>\n",
       "    </tr>\n",
       "    <tr>\n",
       "      <th>total_dense_layers</th>\n",
       "      <th></th>\n",
       "      <th></th>\n",
       "      <th></th>\n",
       "      <th></th>\n",
       "    </tr>\n",
       "  </thead>\n",
       "  <tbody>\n",
       "    <tr>\n",
       "      <th>3</th>\n",
       "      <td>0.977536</td>\n",
       "      <td>0.97699</td>\n",
       "      <td>0.978052</td>\n",
       "      <td>0.984356</td>\n",
       "    </tr>\n",
       "  </tbody>\n",
       "</table>\n",
       "</div>"
      ],
      "text/plain": [
       "                    train_acc  val_acc  train_f1_score  val_f1_score\n",
       "total_dense_layers                                                  \n",
       "3                    0.977536  0.97699        0.978052      0.984356"
      ]
     },
     "execution_count": 14,
     "metadata": {},
     "output_type": "execute_result"
    }
   ],
   "source": [
    "summary_df.groupby(\"total_dense_layers\")[\"train_acc\", \"val_acc\", \"train_f1_score\", \"val_f1_score\"].mean()"
   ]
  },
  {
   "cell_type": "code",
   "execution_count": 15,
   "metadata": {},
   "outputs": [
    {
     "data": {
      "text/html": [
       "<div>\n",
       "<style scoped>\n",
       "    .dataframe tbody tr th:only-of-type {\n",
       "        vertical-align: middle;\n",
       "    }\n",
       "\n",
       "    .dataframe tbody tr th {\n",
       "        vertical-align: top;\n",
       "    }\n",
       "\n",
       "    .dataframe thead th {\n",
       "        text-align: right;\n",
       "    }\n",
       "</style>\n",
       "<table border=\"1\" class=\"dataframe\">\n",
       "  <thead>\n",
       "    <tr style=\"text-align: right;\">\n",
       "      <th></th>\n",
       "      <th>train_acc</th>\n",
       "      <th>val_acc</th>\n",
       "      <th>train_f1_score</th>\n",
       "      <th>val_f1_score</th>\n",
       "    </tr>\n",
       "    <tr>\n",
       "      <th>all_dropout</th>\n",
       "      <th></th>\n",
       "      <th></th>\n",
       "      <th></th>\n",
       "      <th></th>\n",
       "    </tr>\n",
       "  </thead>\n",
       "  <tbody>\n",
       "    <tr>\n",
       "      <th>False</th>\n",
       "      <td>0.976856</td>\n",
       "      <td>0.978512</td>\n",
       "      <td>0.977415</td>\n",
       "      <td>0.985425</td>\n",
       "    </tr>\n",
       "    <tr>\n",
       "      <th>True</th>\n",
       "      <td>0.978216</td>\n",
       "      <td>0.975468</td>\n",
       "      <td>0.978689</td>\n",
       "      <td>0.983287</td>\n",
       "    </tr>\n",
       "  </tbody>\n",
       "</table>\n",
       "</div>"
      ],
      "text/plain": [
       "             train_acc   val_acc  train_f1_score  val_f1_score\n",
       "all_dropout                                                   \n",
       "False         0.976856  0.978512        0.977415      0.985425\n",
       "True          0.978216  0.975468        0.978689      0.983287"
      ]
     },
     "execution_count": 15,
     "metadata": {},
     "output_type": "execute_result"
    }
   ],
   "source": [
    "summary_df.groupby(\"all_dropout\")[\"train_acc\", \"val_acc\", \"train_f1_score\", \"val_f1_score\"].mean()"
   ]
  },
  {
   "cell_type": "code",
   "execution_count": 16,
   "metadata": {},
   "outputs": [
    {
     "data": {
      "text/html": [
       "<div>\n",
       "<style scoped>\n",
       "    .dataframe tbody tr th:only-of-type {\n",
       "        vertical-align: middle;\n",
       "    }\n",
       "\n",
       "    .dataframe tbody tr th {\n",
       "        vertical-align: top;\n",
       "    }\n",
       "\n",
       "    .dataframe thead th {\n",
       "        text-align: right;\n",
       "    }\n",
       "</style>\n",
       "<table border=\"1\" class=\"dataframe\">\n",
       "  <thead>\n",
       "    <tr style=\"text-align: right;\">\n",
       "      <th></th>\n",
       "      <th>train_acc</th>\n",
       "      <th>val_acc</th>\n",
       "      <th>train_f1_score</th>\n",
       "      <th>val_f1_score</th>\n",
       "    </tr>\n",
       "    <tr>\n",
       "      <th>dropout</th>\n",
       "      <th></th>\n",
       "      <th></th>\n",
       "      <th></th>\n",
       "      <th></th>\n",
       "    </tr>\n",
       "  </thead>\n",
       "  <tbody>\n",
       "    <tr>\n",
       "      <th>0.1</th>\n",
       "      <td>0.976531</td>\n",
       "      <td>0.976236</td>\n",
       "      <td>0.977131</td>\n",
       "      <td>0.983830</td>\n",
       "    </tr>\n",
       "    <tr>\n",
       "      <th>0.2</th>\n",
       "      <td>0.980399</td>\n",
       "      <td>0.976938</td>\n",
       "      <td>0.980763</td>\n",
       "      <td>0.984304</td>\n",
       "    </tr>\n",
       "  </tbody>\n",
       "</table>\n",
       "</div>"
      ],
      "text/plain": [
       "         train_acc   val_acc  train_f1_score  val_f1_score\n",
       "dropout                                                   \n",
       "0.1       0.976531  0.976236        0.977131      0.983830\n",
       "0.2       0.980399  0.976938        0.980763      0.984304"
      ]
     },
     "execution_count": 16,
     "metadata": {},
     "output_type": "execute_result"
    }
   ],
   "source": [
    "summary_df.groupby(\"dropout\")[\"train_acc\", \"val_acc\", \"train_f1_score\", \"val_f1_score\"].mean()"
   ]
  },
  {
   "cell_type": "code",
   "execution_count": 17,
   "metadata": {},
   "outputs": [
    {
     "data": {
      "text/html": [
       "<div>\n",
       "<style scoped>\n",
       "    .dataframe tbody tr th:only-of-type {\n",
       "        vertical-align: middle;\n",
       "    }\n",
       "\n",
       "    .dataframe tbody tr th {\n",
       "        vertical-align: top;\n",
       "    }\n",
       "\n",
       "    .dataframe thead th {\n",
       "        text-align: right;\n",
       "    }\n",
       "</style>\n",
       "<table border=\"1\" class=\"dataframe\">\n",
       "  <thead>\n",
       "    <tr style=\"text-align: right;\">\n",
       "      <th></th>\n",
       "      <th>train_acc</th>\n",
       "      <th>val_acc</th>\n",
       "      <th>train_f1_score</th>\n",
       "      <th>val_f1_score</th>\n",
       "    </tr>\n",
       "    <tr>\n",
       "      <th>kernel_initializer</th>\n",
       "      <th></th>\n",
       "      <th></th>\n",
       "      <th></th>\n",
       "      <th></th>\n",
       "    </tr>\n",
       "  </thead>\n",
       "  <tbody>\n",
       "    <tr>\n",
       "      <th>lecun_uniform</th>\n",
       "      <td>0.977536</td>\n",
       "      <td>0.97699</td>\n",
       "      <td>0.978052</td>\n",
       "      <td>0.984356</td>\n",
       "    </tr>\n",
       "  </tbody>\n",
       "</table>\n",
       "</div>"
      ],
      "text/plain": [
       "                    train_acc  val_acc  train_f1_score  val_f1_score\n",
       "kernel_initializer                                                  \n",
       "lecun_uniform        0.977536  0.97699        0.978052      0.984356"
      ]
     },
     "execution_count": 17,
     "metadata": {},
     "output_type": "execute_result"
    }
   ],
   "source": [
    "summary_df.groupby(\"kernel_initializer\")[\"train_acc\", \"val_acc\", \"train_f1_score\", \"val_f1_score\"].mean()"
   ]
  },
  {
   "cell_type": "code",
   "execution_count": 18,
   "metadata": {},
   "outputs": [],
   "source": [
    "summary_over_98_df = summary_df[(summary_df.train_f1_score >= 0.983) & (summary_df.val_f1_score >= 0.983)]"
   ]
  },
  {
   "cell_type": "code",
   "execution_count": 19,
   "metadata": {},
   "outputs": [
    {
     "data": {
      "text/plain": [
       "6"
      ]
     },
     "execution_count": 19,
     "metadata": {},
     "output_type": "execute_result"
    }
   ],
   "source": [
    "len(summary_over_98_df)"
   ]
  },
  {
   "cell_type": "code",
   "execution_count": 20,
   "metadata": {},
   "outputs": [
    {
     "data": {
      "text/html": [
       "<div>\n",
       "<style scoped>\n",
       "    .dataframe tbody tr th:only-of-type {\n",
       "        vertical-align: middle;\n",
       "    }\n",
       "\n",
       "    .dataframe tbody tr th {\n",
       "        vertical-align: top;\n",
       "    }\n",
       "\n",
       "    .dataframe thead th {\n",
       "        text-align: right;\n",
       "    }\n",
       "</style>\n",
       "<table border=\"1\" class=\"dataframe\">\n",
       "  <thead>\n",
       "    <tr style=\"text-align: right;\">\n",
       "      <th></th>\n",
       "      <th>train_acc</th>\n",
       "      <th>val_acc</th>\n",
       "      <th>train_f1_score</th>\n",
       "      <th>val_f1_score</th>\n",
       "    </tr>\n",
       "    <tr>\n",
       "      <th>name</th>\n",
       "      <th></th>\n",
       "      <th></th>\n",
       "      <th></th>\n",
       "      <th></th>\n",
       "    </tr>\n",
       "  </thead>\n",
       "  <tbody>\n",
       "    <tr>\n",
       "      <th>VGG19_False_False_False_c4c60eee0f</th>\n",
       "      <td>0.986965</td>\n",
       "      <td>0.980861</td>\n",
       "      <td>0.987120</td>\n",
       "      <td>0.987013</td>\n",
       "    </tr>\n",
       "    <tr>\n",
       "      <th>VGG19_False_False_False_6af3420cd0</th>\n",
       "      <td>0.990183</td>\n",
       "      <td>0.978947</td>\n",
       "      <td>0.990266</td>\n",
       "      <td>0.985733</td>\n",
       "    </tr>\n",
       "    <tr>\n",
       "      <th>VGG19_True_False_False_9fb6401246</th>\n",
       "      <td>0.988574</td>\n",
       "      <td>0.975120</td>\n",
       "      <td>0.988645</td>\n",
       "      <td>0.983029</td>\n",
       "    </tr>\n",
       "    <tr>\n",
       "      <th>VGG19_True_False_False_07e33df6ad</th>\n",
       "      <td>0.984390</td>\n",
       "      <td>0.977033</td>\n",
       "      <td>0.984586</td>\n",
       "      <td>0.984375</td>\n",
       "    </tr>\n",
       "    <tr>\n",
       "      <th>VGG19_True_False_False_a12fd2df57</th>\n",
       "      <td>0.987126</td>\n",
       "      <td>0.976077</td>\n",
       "      <td>0.987245</td>\n",
       "      <td>0.983671</td>\n",
       "    </tr>\n",
       "    <tr>\n",
       "      <th>VGG19_False_False_False_1e0e0f363b</th>\n",
       "      <td>0.983907</td>\n",
       "      <td>0.977033</td>\n",
       "      <td>0.984132</td>\n",
       "      <td>0.984375</td>\n",
       "    </tr>\n",
       "  </tbody>\n",
       "</table>\n",
       "</div>"
      ],
      "text/plain": [
       "                                    train_acc   val_acc  train_f1_score  \\\n",
       "name                                                                      \n",
       "VGG19_False_False_False_c4c60eee0f   0.986965  0.980861        0.987120   \n",
       "VGG19_False_False_False_6af3420cd0   0.990183  0.978947        0.990266   \n",
       "VGG19_True_False_False_9fb6401246    0.988574  0.975120        0.988645   \n",
       "VGG19_True_False_False_07e33df6ad    0.984390  0.977033        0.984586   \n",
       "VGG19_True_False_False_a12fd2df57    0.987126  0.976077        0.987245   \n",
       "VGG19_False_False_False_1e0e0f363b   0.983907  0.977033        0.984132   \n",
       "\n",
       "                                    val_f1_score  \n",
       "name                                              \n",
       "VGG19_False_False_False_c4c60eee0f      0.987013  \n",
       "VGG19_False_False_False_6af3420cd0      0.985733  \n",
       "VGG19_True_False_False_9fb6401246       0.983029  \n",
       "VGG19_True_False_False_07e33df6ad       0.984375  \n",
       "VGG19_True_False_False_a12fd2df57       0.983671  \n",
       "VGG19_False_False_False_1e0e0f363b      0.984375  "
      ]
     },
     "execution_count": 20,
     "metadata": {},
     "output_type": "execute_result"
    }
   ],
   "source": [
    "summary_over_98_df[[\"train_acc\", \"val_acc\", \"train_f1_score\", \"val_f1_score\"]]"
   ]
  },
  {
   "cell_type": "code",
   "execution_count": 21,
   "metadata": {},
   "outputs": [
    {
     "data": {
      "image/png": "[encoded data removed]",
      "text/plain": [
       "<Figure size 1296x576 with 1 Axes>"
      ]
     },
     "metadata": {},
     "output_type": "display_data"
    }
   ],
   "source": [
    "plot_bar(summary_over_98_df, \"acc\")"
   ]
  },
  {
   "cell_type": "code",
   "execution_count": 22,
   "metadata": {},
   "outputs": [
    {
     "data": {
      "image/png": "[encoded data removed]",
      "text/plain": [
       "<Figure size 1296x576 with 1 Axes>"
      ]
     },
     "metadata": {},
     "output_type": "display_data"
    }
   ],
   "source": [
    "plot_bar(summary_over_98_df, \"f1_score\")"
   ]
  },
  {
   "cell_type": "code",
   "execution_count": 22,
   "metadata": {},
   "outputs": [
    {
     "ename": "KeyError",
     "evalue": "KeyError(\"None of [Index(['VGG19_True_64_True_4465220882', 'VGG19_True_64_True_ba904dc77e',\\n       'VGG19_True_64_True_b0866a4093'],\\n      dtype='object', name='name')] are in the [index]\",)",
     "traceback": [
      "\u001b[0;31m---------------------------------------------------------------------------\u001b[0m",
      "\u001b[0;31mKeyError\u001b[0m                                  Traceback (most recent call last)",
      "\u001b[0;32m/media/WORK/apps/anaconda3/envs/chest-xray-pneumonia/lib/python3.6/site-packages/pandas/core/indexing.py\u001b[0m in \u001b[0;36m_multi_take\u001b[0;34m(self, tup)\u001b[0m\n\u001b[1;32m    940\u001b[0m                 self._validate_read_indexer(keyarr, indexer,\n\u001b[0;32m--> 941\u001b[0;31m                                             o._get_axis_number(axis))\n\u001b[0m\u001b[1;32m    942\u001b[0m                 \u001b[0md\u001b[0m\u001b[0;34m[\u001b[0m\u001b[0maxis\u001b[0m\u001b[0;34m]\u001b[0m \u001b[0;34m=\u001b[0m \u001b[0;34m(\u001b[0m\u001b[0mkeyarr\u001b[0m\u001b[0;34m,\u001b[0m \u001b[0mindexer\u001b[0m\u001b[0;34m)\u001b[0m\u001b[0;34m\u001b[0m\u001b[0m\n",
      "\u001b[0;32m/media/WORK/apps/anaconda3/envs/chest-xray-pneumonia/lib/python3.6/site-packages/pandas/core/indexing.py\u001b[0m in \u001b[0;36m_validate_read_indexer\u001b[0;34m(self, key, indexer, axis)\u001b[0m\n\u001b[1;32m   1205\u001b[0m                     u\"None of [{key}] are in the [{axis}]\".format(\n\u001b[0;32m-> 1206\u001b[0;31m                         key=key, axis=self.obj._get_axis_name(axis)))\n\u001b[0m\u001b[1;32m   1207\u001b[0m \u001b[0;34m\u001b[0m\u001b[0m\n",
      "\u001b[0;31mKeyError\u001b[0m: \"None of [Index(['VGG19_True_64_True_4465220882', 'VGG19_True_64_True_ba904dc77e',\\n       'VGG19_True_64_True_b0866a4093'],\\n      dtype='object', name='name')] are in the [index]\"",
      "\nDuring handling of the above exception, another exception occurred:\n",
      "\u001b[0;31mKeyError\u001b[0m                                  Traceback (most recent call last)",
      "\u001b[0;32m<ipython-input-22-ef223d9aa073>\u001b[0m in \u001b[0;36m<module>\u001b[0;34m()\u001b[0m\n\u001b[0;32m----> 1\u001b[0;31m \u001b[0msummary_df\u001b[0m\u001b[0;34m.\u001b[0m\u001b[0mloc\u001b[0m\u001b[0;34m[\u001b[0m\u001b[0;34m[\u001b[0m\u001b[0;34m\"VGG19_True_64_True_4465220882\"\u001b[0m\u001b[0;34m,\u001b[0m \u001b[0;34m\"VGG19_True_64_True_ba904dc77e\"\u001b[0m\u001b[0;34m,\u001b[0m \u001b[0;34m\"VGG19_True_64_True_b0866a4093\"\u001b[0m\u001b[0;34m]\u001b[0m\u001b[0;34m,\u001b[0m \u001b[0;34m[\u001b[0m\u001b[0;34m\"train_acc\"\u001b[0m\u001b[0;34m,\u001b[0m \u001b[0;34m\"val_acc\"\u001b[0m\u001b[0;34m,\u001b[0m \u001b[0;34m\"train_f1_score\"\u001b[0m\u001b[0;34m,\u001b[0m \u001b[0;34m\"val_f1_score\"\u001b[0m\u001b[0;34m]\u001b[0m\u001b[0;34m]\u001b[0m\u001b[0;34m\u001b[0m\u001b[0m\n\u001b[0m",
      "\u001b[0;32m/media/WORK/apps/anaconda3/envs/chest-xray-pneumonia/lib/python3.6/site-packages/pandas/core/indexing.py\u001b[0m in \u001b[0;36m__getitem__\u001b[0;34m(self, key)\u001b[0m\n\u001b[1;32m   1470\u001b[0m             \u001b[0;32mexcept\u001b[0m \u001b[0;34m(\u001b[0m\u001b[0mKeyError\u001b[0m\u001b[0;34m,\u001b[0m \u001b[0mIndexError\u001b[0m\u001b[0;34m)\u001b[0m\u001b[0;34m:\u001b[0m\u001b[0;34m\u001b[0m\u001b[0m\n\u001b[1;32m   1471\u001b[0m                 \u001b[0;32mpass\u001b[0m\u001b[0;34m\u001b[0m\u001b[0m\n\u001b[0;32m-> 1472\u001b[0;31m             \u001b[0;32mreturn\u001b[0m \u001b[0mself\u001b[0m\u001b[0;34m.\u001b[0m\u001b[0m_getitem_tuple\u001b[0m\u001b[0;34m(\u001b[0m\u001b[0mkey\u001b[0m\u001b[0;34m)\u001b[0m\u001b[0;34m\u001b[0m\u001b[0m\n\u001b[0m\u001b[1;32m   1473\u001b[0m         \u001b[0;32melse\u001b[0m\u001b[0;34m:\u001b[0m\u001b[0;34m\u001b[0m\u001b[0m\n\u001b[1;32m   1474\u001b[0m             \u001b[0;31m# we by definition only have the 0th axis\u001b[0m\u001b[0;34m\u001b[0m\u001b[0;34m\u001b[0m\u001b[0m\n",
      "\u001b[0;32m/media/WORK/apps/anaconda3/envs/chest-xray-pneumonia/lib/python3.6/site-packages/pandas/core/indexing.py\u001b[0m in \u001b[0;36m_getitem_tuple\u001b[0;34m(self, tup)\u001b[0m\n\u001b[1;32m    877\u001b[0m         \u001b[0;31m# ugly hack for GH #836\u001b[0m\u001b[0;34m\u001b[0m\u001b[0;34m\u001b[0m\u001b[0m\n\u001b[1;32m    878\u001b[0m         \u001b[0;32mif\u001b[0m \u001b[0mself\u001b[0m\u001b[0;34m.\u001b[0m\u001b[0m_multi_take_opportunity\u001b[0m\u001b[0;34m(\u001b[0m\u001b[0mtup\u001b[0m\u001b[0;34m)\u001b[0m\u001b[0;34m:\u001b[0m\u001b[0;34m\u001b[0m\u001b[0m\n\u001b[0;32m--> 879\u001b[0;31m             \u001b[0;32mreturn\u001b[0m \u001b[0mself\u001b[0m\u001b[0;34m.\u001b[0m\u001b[0m_multi_take\u001b[0m\u001b[0;34m(\u001b[0m\u001b[0mtup\u001b[0m\u001b[0;34m)\u001b[0m\u001b[0;34m\u001b[0m\u001b[0m\n\u001b[0m\u001b[1;32m    880\u001b[0m \u001b[0;34m\u001b[0m\u001b[0m\n\u001b[1;32m    881\u001b[0m         \u001b[0;31m# no shortcut needed\u001b[0m\u001b[0;34m\u001b[0m\u001b[0;34m\u001b[0m\u001b[0m\n",
      "\u001b[0;32m/media/WORK/apps/anaconda3/envs/chest-xray-pneumonia/lib/python3.6/site-packages/pandas/core/indexing.py\u001b[0m in \u001b[0;36m_multi_take\u001b[0;34m(self, tup)\u001b[0m\n\u001b[1;32m    943\u001b[0m             \u001b[0;32mreturn\u001b[0m \u001b[0mo\u001b[0m\u001b[0;34m.\u001b[0m\u001b[0m_reindex_with_indexers\u001b[0m\u001b[0;34m(\u001b[0m\u001b[0md\u001b[0m\u001b[0;34m,\u001b[0m \u001b[0mcopy\u001b[0m\u001b[0;34m=\u001b[0m\u001b[0;32mTrue\u001b[0m\u001b[0;34m,\u001b[0m \u001b[0mallow_dups\u001b[0m\u001b[0;34m=\u001b[0m\u001b[0;32mTrue\u001b[0m\u001b[0;34m)\u001b[0m\u001b[0;34m\u001b[0m\u001b[0m\n\u001b[1;32m    944\u001b[0m         \u001b[0;32mexcept\u001b[0m \u001b[0;34m(\u001b[0m\u001b[0mKeyError\u001b[0m\u001b[0;34m,\u001b[0m \u001b[0mIndexingError\u001b[0m\u001b[0;34m)\u001b[0m \u001b[0;32mas\u001b[0m \u001b[0mdetail\u001b[0m\u001b[0;34m:\u001b[0m\u001b[0;34m\u001b[0m\u001b[0m\n\u001b[0;32m--> 945\u001b[0;31m             \u001b[0;32mraise\u001b[0m \u001b[0mself\u001b[0m\u001b[0;34m.\u001b[0m\u001b[0m_exception\u001b[0m\u001b[0;34m(\u001b[0m\u001b[0mdetail\u001b[0m\u001b[0;34m)\u001b[0m\u001b[0;34m\u001b[0m\u001b[0m\n\u001b[0m\u001b[1;32m    946\u001b[0m \u001b[0;34m\u001b[0m\u001b[0m\n\u001b[1;32m    947\u001b[0m     \u001b[0;32mdef\u001b[0m \u001b[0m_convert_for_reindex\u001b[0m\u001b[0;34m(\u001b[0m\u001b[0mself\u001b[0m\u001b[0;34m,\u001b[0m \u001b[0mkey\u001b[0m\u001b[0;34m,\u001b[0m \u001b[0maxis\u001b[0m\u001b[0;34m=\u001b[0m\u001b[0;32mNone\u001b[0m\u001b[0;34m)\u001b[0m\u001b[0;34m:\u001b[0m\u001b[0;34m\u001b[0m\u001b[0m\n",
      "\u001b[0;31mKeyError\u001b[0m: KeyError(\"None of [Index(['VGG19_True_64_True_4465220882', 'VGG19_True_64_True_ba904dc77e',\\n       'VGG19_True_64_True_b0866a4093'],\\n      dtype='object', name='name')] are in the [index]\",)"
     ],
     "output_type": "error"
    }
   ],
   "source": [
    "summary_df.loc[[\"VGG19_True_64_True_4465220882\", \"VGG19_True_64_True_ba904dc77e\", \"VGG19_True_64_True_b0866a4093\"], [\"train_acc\", \"val_acc\", \"train_f1_score\", \"val_f1_score\"]]"
   ]
  },
  {
   "cell_type": "code",
   "execution_count": null,
   "metadata": {},
   "outputs": [],
   "source": []
  },
  {
   "cell_type": "code",
   "execution_count": null,
   "metadata": {},
   "outputs": [],
   "source": []
  },
  {
   "cell_type": "code",
   "execution_count": null,
   "metadata": {},
   "outputs": [],
   "source": []
  },
  {
   "cell_type": "code",
   "execution_count": null,
   "metadata": {},
   "outputs": [],
   "source": []
  },
  {
   "cell_type": "code",
   "execution_count": null,
   "metadata": {},
   "outputs": [],
   "source": []
  }
 ],
 "metadata": {
  "kernelspec": {
   "display_name": "Python 3",
   "language": "python",
   "name": "python3"
  },
  "language_info": {
   "codemirror_mode": {
    "name": "ipython",
    "version": 3
   },
   "file_extension": ".py",
   "mimetype": "text/x-python",
   "name": "python",
   "nbconvert_exporter": "python",
   "pygments_lexer": "ipython3",
   "version": "3.6.5"
  }
 },
 "nbformat": 4,
 "nbformat_minor": 2
}
